{
 "cells": [
  {
   "cell_type": "code",
   "execution_count": 1,
   "metadata": {},
   "outputs": [],
   "source": [
    "import pandas as pd"
   ]
  },
  {
   "cell_type": "code",
   "execution_count": 69,
   "metadata": {},
   "outputs": [
    {
     "data": {
      "text/html": [
       "<div>\n",
       "<style scoped>\n",
       "    .dataframe tbody tr th:only-of-type {\n",
       "        vertical-align: middle;\n",
       "    }\n",
       "\n",
       "    .dataframe tbody tr th {\n",
       "        vertical-align: top;\n",
       "    }\n",
       "\n",
       "    .dataframe thead th {\n",
       "        text-align: right;\n",
       "    }\n",
       "</style>\n",
       "<table border=\"1\" class=\"dataframe\">\n",
       "  <thead>\n",
       "    <tr style=\"text-align: right;\">\n",
       "      <th></th>\n",
       "      <th>S.No.</th>\n",
       "      <th>Title</th>\n",
       "      <th>Company Name</th>\n",
       "      <th>Job sector</th>\n",
       "    </tr>\n",
       "  </thead>\n",
       "  <tbody>\n",
       "    <tr>\n",
       "      <th>0</th>\n",
       "      <td>1</td>\n",
       "      <td>Data Visualization Intern</td>\n",
       "      <td>ABB</td>\n",
       "      <td>DATA_ANALYTICS,ENGINEERING_CORE</td>\n",
       "    </tr>\n",
       "    <tr>\n",
       "      <th>1</th>\n",
       "      <td>2</td>\n",
       "      <td>INTERN</td>\n",
       "      <td>Afcons Infrastructure Limited</td>\n",
       "      <td>NaN</td>\n",
       "    </tr>\n",
       "    <tr>\n",
       "      <th>2</th>\n",
       "      <td>3</td>\n",
       "      <td>INTERN</td>\n",
       "      <td>Ageas Federal Life Insurance Company</td>\n",
       "      <td>NaN</td>\n",
       "    </tr>\n",
       "    <tr>\n",
       "      <th>3</th>\n",
       "      <td>4</td>\n",
       "      <td>INTERN</td>\n",
       "      <td>Agrim Wholesale Pvt Ltd</td>\n",
       "      <td>ENGINEERING_WEB_SOFTWARE</td>\n",
       "    </tr>\n",
       "    <tr>\n",
       "      <th>4</th>\n",
       "      <td>5</td>\n",
       "      <td>INTERN</td>\n",
       "      <td>Aim India Pvt. Ltd</td>\n",
       "      <td>BANKING_AND_FINANCIAL_SERVICES</td>\n",
       "    </tr>\n",
       "  </tbody>\n",
       "</table>\n",
       "</div>"
      ],
      "text/plain": [
       "   S.No.                      Title                          Company Name  \\\n",
       "0      1  Data Visualization Intern                                   ABB   \n",
       "1      2                     INTERN         Afcons Infrastructure Limited   \n",
       "2      3                     INTERN  Ageas Federal Life Insurance Company   \n",
       "3      4                     INTERN               Agrim Wholesale Pvt Ltd   \n",
       "4      5                     INTERN                    Aim India Pvt. Ltd   \n",
       "\n",
       "                        Job sector  \n",
       "0  DATA_ANALYTICS,ENGINEERING_CORE  \n",
       "1                              NaN  \n",
       "2                              NaN  \n",
       "3         ENGINEERING_WEB_SOFTWARE  \n",
       "4   BANKING_AND_FINANCIAL_SERVICES  "
      ]
     },
     "execution_count": 69,
     "metadata": {},
     "output_type": "execute_result"
    }
   ],
   "source": [
    "df = pd.read_excel('Copy of PLACEMENT_JOB_PROFILE_REPORT(1).xlsx')\n",
    "df.head(5)"
   ]
  },
  {
   "cell_type": "code",
   "execution_count": 72,
   "metadata": {},
   "outputs": [
    {
     "data": {
      "text/plain": [
       "{'ADMINISTRATION,ENGINEERING',\n",
       " 'ADVERTISING_MEDIA_PR',\n",
       " 'BANKING_AND_FINANCIAL_SERVICES',\n",
       " 'BANKING_AND_FINANCIAL_SERVICES,ENGINEERING_WEB_SOFTWARE',\n",
       " 'BUSINESS_DEVELOPMENT',\n",
       " 'BUSINESS_DEVELOPMENT,SALES',\n",
       " 'Business Development Trainee',\n",
       " 'COMMUNITY_SOCIAL_SERVICES',\n",
       " 'CONSTRUCTION_CONTRACTING',\n",
       " 'CONSULTING',\n",
       " 'CONSULTING,INFORMATION_TECHNOLOGY',\n",
       " 'DATA_ANALYTICS',\n",
       " 'DATA_ANALYTICS,ENGINEERING',\n",
       " 'DATA_ANALYTICS,ENGINEERING_CORE',\n",
       " 'DATA_ANALYTICS,ENGINEERING_WEB_SOFTWARE',\n",
       " 'EDUCATION_TEACHING_TRAINING',\n",
       " 'EDUCATION_TEACHING_TRAINING,MARKETING_BRAND_MANAGEMENT,MARKETING_GENERAL,SALES',\n",
       " 'ENGINEERING',\n",
       " 'ENGINEERING,ENTREPRENEURSHIP',\n",
       " 'ENGINEERING,GENERAL_MANAGEMENT',\n",
       " 'ENGINEERING,INFORMATION_TECHNOLOGY',\n",
       " 'ENGINEERING_CORE',\n",
       " 'ENGINEERING_CORE,ENGINEERING_WEB_SOFTWARE,INFORMATION_TECHNOLOGY',\n",
       " 'ENGINEERING_CORE,INFORMATION_TECHNOLOGY',\n",
       " 'ENGINEERING_WEB_SOFTWARE',\n",
       " 'ENGINEERING_WEB_SOFTWARE,INFORMATION_TECHNOLOGY',\n",
       " 'GENERAL_MANAGEMENT',\n",
       " 'HEALTHCARE_SERVICES',\n",
       " 'INFORMATION_TECHNOLOGY',\n",
       " 'Intern',\n",
       " 'Intern Operations Research Scientist',\n",
       " 'MARKETING_GENERAL',\n",
       " 'Not Defined',\n",
       " 'OTHER',\n",
       " 'Quantitative Research Analyst',\n",
       " 'Quantitative Researcher',\n",
       " 'RESEARCH',\n",
       " 'Software Engineer',\n",
       " 'Student Intern',\n",
       " nan}"
      ]
     },
     "execution_count": 72,
     "metadata": {},
     "output_type": "execute_result"
    }
   ],
   "source": [
    "set(df['Job sector'])"
   ]
  }
 ],
 "metadata": {
  "kernelspec": {
   "display_name": "superbase",
   "language": "python",
   "name": "python3"
  },
  "language_info": {
   "codemirror_mode": {
    "name": "ipython",
    "version": 3
   },
   "file_extension": ".py",
   "mimetype": "text/x-python",
   "name": "python",
   "nbconvert_exporter": "python",
   "pygments_lexer": "ipython3",
   "version": "3.10.9"
  },
  "orig_nbformat": 4
 },
 "nbformat": 4,
 "nbformat_minor": 2
}
